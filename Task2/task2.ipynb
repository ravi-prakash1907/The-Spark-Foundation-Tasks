{
  "nbformat": 4,
  "nbformat_minor": 0,
  "metadata": {
    "colab": {
      "name": "task2.ipynb",
      "provenance": [],
      "collapsed_sections": [],
      "authorship_tag": "ABX9TyM/z4egCoML7XfAdBjfgSne",
      "include_colab_link": true
    },
    "kernelspec": {
      "name": "python3",
      "display_name": "Python 3"
    }
  },
  "cells": [
    {
      "cell_type": "markdown",
      "metadata": {
        "id": "view-in-github",
        "colab_type": "text"
      },
      "source": [
        "<a href=\"https://colab.research.google.com/github/ravi-prakash1907/The-Spark-Foundation-Tasks/blob/main/Task2/task2.ipynb\" target=\"_parent\"><img src=\"https://colab.research.google.com/assets/colab-badge.svg\" alt=\"Open In Colab\"/></a>"
      ]
    },
    {
      "cell_type": "markdown",
      "metadata": {
        "id": "Q-kszLyah_3o"
      },
      "source": [
        "# **Task 2**"
      ]
    },
    {
      "cell_type": "markdown",
      "metadata": {
        "id": "-ewxf3tGiDZm"
      },
      "source": [
        "## Libraries"
      ]
    },
    {
      "cell_type": "code",
      "metadata": {
        "id": "_vNFsNfph-pv"
      },
      "source": [
        "from urllib.request import urlopen\n",
        "import csv, re\n",
        "import numpy as np\n",
        "import pandas as pd\n",
        " \n",
        "## for EDA\n",
        "import seaborn as sns\n",
        "import matplotlib.pyplot as plt  \n",
        " \n",
        "# for model training and prediction\n",
        "from sklearn.model_selection import train_test_split \n",
        "from sklearn.linear_model import LinearRegression\n",
        "from sklearn import metrics  \n",
        " \n",
        "# for prediction\n",
        "from random import randint"
      ],
      "execution_count": null,
      "outputs": []
    },
    {
      "cell_type": "markdown",
      "metadata": {
        "id": "sCMo5kEYiGfI"
      },
      "source": [
        "## Loading the DataSet"
      ]
    },
    {
      "cell_type": "code",
      "metadata": {
        "id": "A_niuP-Fnc8w"
      },
      "source": [
        "def downloadCSV(urlLoc, saveAs):\n",
        "  # loading bytestring\n",
        "  try:\n",
        "    with urlopen(urlLoc) as rsp:\n",
        "      gotRaw = rsp.read()\n",
        "    \n",
        "    # saving as csv\n",
        "    data = gotRaw.decode('utf-8').split('\\r\\n')\n",
        "    \n",
        "    with open(saveAs, \"w\") as datafile:\n",
        "      writer = csv.writer(datafile, delimiter = ',')\n",
        "      for line in data:        \n",
        "        writer.writerow(re.split(',',line))\n",
        "  except:\n",
        "    print(\"Can not open the URL!!\")"
      ],
      "execution_count": null,
      "outputs": []
    },
    {
      "cell_type": "code",
      "metadata": {
        "colab": {
          "base_uri": "https://localhost:8080/"
        },
        "id": "BhoxaosoiKQ9",
        "outputId": "3018ea0b-a809-448f-ba2b-fb24442bbc93"
      },
      "source": [
        "## file locations\n",
        "dataURL = 'https://raw.githubusercontent.com/AdiPersonalWorks/Random/master/student_scores%20-%20student_scores.csv'\n",
        "localDataLoc = 'Dataset/data.csv'\n",
        "\n",
        "## loading data\n",
        "try:\n",
        "  data = pd.read_csv(localDataLoc, header = 0)\n",
        "  print(\"File was there!!\")\n",
        "except:\n",
        "  downloadCSV(dataURL, localDataLoc)\n",
        "  data = pd.read_csv(localDataLoc, header = 0)\n",
        "  print(\"File was downloaded!!\")"
      ],
      "execution_count": null,
      "outputs": [
        {
          "output_type": "stream",
          "text": [
            "File was there!!\n"
          ],
          "name": "stdout"
        }
      ]
    },
    {
      "cell_type": "markdown",
      "metadata": {
        "id": "HCcSEQw0iLQW"
      },
      "source": [
        "## Exploratory Data Analysis"
      ]
    },
    {
      "cell_type": "code",
      "metadata": {
        "id": "5PfH1beaiPo6",
        "colab": {
          "base_uri": "https://localhost:8080/",
          "height": 206
        },
        "outputId": "1647b914-4432-410e-90a2-701c66a75aa7"
      },
      "source": [
        "data.head()"
      ],
      "execution_count": null,
      "outputs": [
        {
          "output_type": "execute_result",
          "data": {
            "text/html": [
              "<div>\n",
              "<style scoped>\n",
              "    .dataframe tbody tr th:only-of-type {\n",
              "        vertical-align: middle;\n",
              "    }\n",
              "\n",
              "    .dataframe tbody tr th {\n",
              "        vertical-align: top;\n",
              "    }\n",
              "\n",
              "    .dataframe thead th {\n",
              "        text-align: right;\n",
              "    }\n",
              "</style>\n",
              "<table border=\"1\" class=\"dataframe\">\n",
              "  <thead>\n",
              "    <tr style=\"text-align: right;\">\n",
              "      <th></th>\n",
              "      <th>Hours</th>\n",
              "      <th>Scores</th>\n",
              "    </tr>\n",
              "  </thead>\n",
              "  <tbody>\n",
              "    <tr>\n",
              "      <th>0</th>\n",
              "      <td>2.5</td>\n",
              "      <td>21</td>\n",
              "    </tr>\n",
              "    <tr>\n",
              "      <th>1</th>\n",
              "      <td>5.1</td>\n",
              "      <td>47</td>\n",
              "    </tr>\n",
              "    <tr>\n",
              "      <th>2</th>\n",
              "      <td>3.2</td>\n",
              "      <td>27</td>\n",
              "    </tr>\n",
              "    <tr>\n",
              "      <th>3</th>\n",
              "      <td>8.5</td>\n",
              "      <td>75</td>\n",
              "    </tr>\n",
              "    <tr>\n",
              "      <th>4</th>\n",
              "      <td>3.5</td>\n",
              "      <td>30</td>\n",
              "    </tr>\n",
              "  </tbody>\n",
              "</table>\n",
              "</div>"
            ],
            "text/plain": [
              "   Hours  Scores\n",
              "0    2.5      21\n",
              "1    5.1      47\n",
              "2    3.2      27\n",
              "3    8.5      75\n",
              "4    3.5      30"
            ]
          },
          "metadata": {
            "tags": []
          },
          "execution_count": 132
        }
      ]
    },
    {
      "cell_type": "code",
      "metadata": {
        "id": "nkLC29ceVvXZ",
        "colab": {
          "base_uri": "https://localhost:8080/"
        },
        "outputId": "bf56a4a9-68fb-4f46-f34b-71f4f43b4e06"
      },
      "source": [
        "data.shape"
      ],
      "execution_count": null,
      "outputs": [
        {
          "output_type": "execute_result",
          "data": {
            "text/plain": [
              "(25, 2)"
            ]
          },
          "metadata": {
            "tags": []
          },
          "execution_count": 133
        }
      ]
    },
    {
      "cell_type": "code",
      "metadata": {
        "id": "G7t6gCGJV5wR",
        "colab": {
          "base_uri": "https://localhost:8080/",
          "height": 300
        },
        "outputId": "6b7ac45a-7d49-4318-d005-43ecc473dc1b"
      },
      "source": [
        "data.describe()"
      ],
      "execution_count": null,
      "outputs": [
        {
          "output_type": "execute_result",
          "data": {
            "text/html": [
              "<div>\n",
              "<style scoped>\n",
              "    .dataframe tbody tr th:only-of-type {\n",
              "        vertical-align: middle;\n",
              "    }\n",
              "\n",
              "    .dataframe tbody tr th {\n",
              "        vertical-align: top;\n",
              "    }\n",
              "\n",
              "    .dataframe thead th {\n",
              "        text-align: right;\n",
              "    }\n",
              "</style>\n",
              "<table border=\"1\" class=\"dataframe\">\n",
              "  <thead>\n",
              "    <tr style=\"text-align: right;\">\n",
              "      <th></th>\n",
              "      <th>Hours</th>\n",
              "      <th>Scores</th>\n",
              "    </tr>\n",
              "  </thead>\n",
              "  <tbody>\n",
              "    <tr>\n",
              "      <th>count</th>\n",
              "      <td>25.000000</td>\n",
              "      <td>25.000000</td>\n",
              "    </tr>\n",
              "    <tr>\n",
              "      <th>mean</th>\n",
              "      <td>5.012000</td>\n",
              "      <td>51.480000</td>\n",
              "    </tr>\n",
              "    <tr>\n",
              "      <th>std</th>\n",
              "      <td>2.525094</td>\n",
              "      <td>25.286887</td>\n",
              "    </tr>\n",
              "    <tr>\n",
              "      <th>min</th>\n",
              "      <td>1.100000</td>\n",
              "      <td>17.000000</td>\n",
              "    </tr>\n",
              "    <tr>\n",
              "      <th>25%</th>\n",
              "      <td>2.700000</td>\n",
              "      <td>30.000000</td>\n",
              "    </tr>\n",
              "    <tr>\n",
              "      <th>50%</th>\n",
              "      <td>4.800000</td>\n",
              "      <td>47.000000</td>\n",
              "    </tr>\n",
              "    <tr>\n",
              "      <th>75%</th>\n",
              "      <td>7.400000</td>\n",
              "      <td>75.000000</td>\n",
              "    </tr>\n",
              "    <tr>\n",
              "      <th>max</th>\n",
              "      <td>9.200000</td>\n",
              "      <td>95.000000</td>\n",
              "    </tr>\n",
              "  </tbody>\n",
              "</table>\n",
              "</div>"
            ],
            "text/plain": [
              "           Hours     Scores\n",
              "count  25.000000  25.000000\n",
              "mean    5.012000  51.480000\n",
              "std     2.525094  25.286887\n",
              "min     1.100000  17.000000\n",
              "25%     2.700000  30.000000\n",
              "50%     4.800000  47.000000\n",
              "75%     7.400000  75.000000\n",
              "max     9.200000  95.000000"
            ]
          },
          "metadata": {
            "tags": []
          },
          "execution_count": 134
        }
      ]
    },
    {
      "cell_type": "code",
      "metadata": {
        "id": "jEAWrYJQt5Yy",
        "colab": {
          "base_uri": "https://localhost:8080/"
        },
        "outputId": "997a49f8-d6cd-4ba8-a862-5d3922383de0"
      },
      "source": [
        "print(data.isnull(),\"\\n\\n\")\n",
        "\n",
        "print(data.isnull().sum())"
      ],
      "execution_count": null,
      "outputs": [
        {
          "output_type": "stream",
          "text": [
            "    Hours  Scores\n",
            "0   False   False\n",
            "1   False   False\n",
            "2   False   False\n",
            "3   False   False\n",
            "4   False   False\n",
            "5   False   False\n",
            "6   False   False\n",
            "7   False   False\n",
            "8   False   False\n",
            "9   False   False\n",
            "10  False   False\n",
            "11  False   False\n",
            "12  False   False\n",
            "13  False   False\n",
            "14  False   False\n",
            "15  False   False\n",
            "16  False   False\n",
            "17  False   False\n",
            "18  False   False\n",
            "19  False   False\n",
            "20  False   False\n",
            "21  False   False\n",
            "22  False   False\n",
            "23  False   False\n",
            "24  False   False \n",
            "\n",
            "\n",
            "Hours     0\n",
            "Scores    0\n",
            "dtype: int64\n"
          ],
          "name": "stdout"
        }
      ]
    },
    {
      "cell_type": "markdown",
      "metadata": {
        "id": "Dz50J6HmuPGf"
      },
      "source": [
        "_**So, there is no null value in the given dataset**_"
      ]
    },
    {
      "cell_type": "code",
      "metadata": {
        "id": "SoJN8wCgtQaG",
        "colab": {
          "base_uri": "https://localhost:8080/",
          "height": 325
        },
        "outputId": "2f2fdad1-fd34-487c-e83d-fd9092095628"
      },
      "source": [
        "## visualization\n",
        "sns.relplot(x='Hours', y='Scores', data=data)"
      ],
      "execution_count": null,
      "outputs": [
        {
          "output_type": "execute_result",
          "data": {
            "text/plain": [
              "<seaborn.axisgrid.FacetGrid at 0x7f150e910278>"
            ]
          },
          "metadata": {
            "tags": []
          },
          "execution_count": 136
        },
        {
          "output_type": "display_data",
          "data": {
            "image/png": "[encoded data removed]",
            "text/plain": [
              "<Figure size 360x360 with 1 Axes>"
            ]
          },
          "metadata": {
            "tags": [],
            "needs_background": "light"
          }
        }
      ]
    },
    {
      "cell_type": "markdown",
      "metadata": {
        "id": "Zg0NX8lku0SZ"
      },
      "source": [
        "_**It has a linear relation**_"
      ]
    },
    {
      "cell_type": "markdown",
      "metadata": {
        "id": "CvqyTEqCiQUK"
      },
      "source": [
        "## Building the ML Model"
      ]
    },
    {
      "cell_type": "markdown",
      "metadata": {
        "id": "20H6kFtiviqM"
      },
      "source": [
        "### Data Preparation "
      ]
    },
    {
      "cell_type": "code",
      "metadata": {
        "id": "Dm7-rbJNiUMS"
      },
      "source": [
        "x = data.iloc[:, :-1].values  \n",
        "y = data.iloc[:, 1].values  "
      ],
      "execution_count": null,
      "outputs": []
    },
    {
      "cell_type": "code",
      "metadata": {
        "id": "1CUaPfWuwWnc"
      },
      "source": [
        "# test-train data split\n",
        "xtrain, xtest, ytrain, ytest = train_test_split(x, y, \n",
        "                            test_size=0.3, random_state=0) "
      ],
      "execution_count": null,
      "outputs": []
    },
    {
      "cell_type": "markdown",
      "metadata": {
        "id": "B7bzSfLnwoTn"
      },
      "source": [
        "### Training on Linear Model"
      ]
    },
    {
      "cell_type": "code",
      "metadata": {
        "id": "q5VvrfhSwtT1",
        "colab": {
          "base_uri": "https://localhost:8080/",
          "height": 199
        },
        "outputId": "ec46a94b-e914-46ba-859f-596aa12019fc"
      },
      "source": [
        "## getting the model\n",
        "linRegModel = LinearRegression()  \n",
        "\n",
        "# training\n",
        "linRegModel.fit(xtrain, ytrain) \n",
        "\n",
        "\n",
        "### plotting the regression line based on our training \n",
        "line = linRegModel.coef_*x+linRegModel.intercept_\n",
        "\n",
        "# Plotting for the test data\n",
        "plt.scatter(x, y)\n",
        "plt.plot(x, line);\n",
        "plt.show()"
      ],
      "execution_count": null,
      "outputs": [
        {
          "output_type": "display_data",
          "data": {
            "image/png": "[encoded data removed]",
            "text/plain": [
              "<Figure size 432x288 with 1 Axes>"
            ]
          },
          "metadata": {
            "tags": [],
            "needs_background": "light"
          }
        }
      ]
    },
    {
      "cell_type": "markdown",
      "metadata": {
        "id": "zukt8Vk_yjdv"
      },
      "source": [
        "## Evaluation"
      ]
    },
    {
      "cell_type": "code",
      "metadata": {
        "id": "Tz8uQX8Mymhv",
        "colab": {
          "base_uri": "https://localhost:8080/",
          "height": 542
        },
        "outputId": "6d02b57c-1297-400a-fad9-663c8e562fa4"
      },
      "source": [
        "## testing the model\n",
        "print(\"Testing Hours:\\n\\n\",xtest)\n",
        " \n",
        "# predicting the marks for test dataset\n",
        "yPredicted = linRegModel.predict(xtest)\n",
        " \n",
        "print(\"\\n\\nComparision:\\n\")\n",
        "df = pd.DataFrame({'Reality': ytest, 'Prediction': yPredicted})  \n",
        " \n",
        "df"
      ],
      "execution_count": null,
      "outputs": [
        {
          "output_type": "stream",
          "text": [
            "Testing Hours:\n",
            "\n",
            " [[1.5]\n",
            " [3.2]\n",
            " [7.4]\n",
            " [2.5]\n",
            " [5.9]\n",
            " [3.8]\n",
            " [1.9]\n",
            " [7.8]]\n",
            "\n",
            "\n",
            "Comparision:\n",
            "\n"
          ],
          "name": "stdout"
        },
        {
          "output_type": "execute_result",
          "data": {
            "text/html": [
              "<div>\n",
              "<style scoped>\n",
              "    .dataframe tbody tr th:only-of-type {\n",
              "        vertical-align: middle;\n",
              "    }\n",
              "\n",
              "    .dataframe tbody tr th {\n",
              "        vertical-align: top;\n",
              "    }\n",
              "\n",
              "    .dataframe thead th {\n",
              "        text-align: right;\n",
              "    }\n",
              "</style>\n",
              "<table border=\"1\" class=\"dataframe\">\n",
              "  <thead>\n",
              "    <tr style=\"text-align: right;\">\n",
              "      <th></th>\n",
              "      <th>Reality</th>\n",
              "      <th>Prediction</th>\n",
              "    </tr>\n",
              "  </thead>\n",
              "  <tbody>\n",
              "    <tr>\n",
              "      <th>0</th>\n",
              "      <td>20</td>\n",
              "      <td>17.053665</td>\n",
              "    </tr>\n",
              "    <tr>\n",
              "      <th>1</th>\n",
              "      <td>27</td>\n",
              "      <td>33.694229</td>\n",
              "    </tr>\n",
              "    <tr>\n",
              "      <th>2</th>\n",
              "      <td>69</td>\n",
              "      <td>74.806209</td>\n",
              "    </tr>\n",
              "    <tr>\n",
              "      <th>3</th>\n",
              "      <td>30</td>\n",
              "      <td>26.842232</td>\n",
              "    </tr>\n",
              "    <tr>\n",
              "      <th>4</th>\n",
              "      <td>62</td>\n",
              "      <td>60.123359</td>\n",
              "    </tr>\n",
              "    <tr>\n",
              "      <th>5</th>\n",
              "      <td>35</td>\n",
              "      <td>39.567369</td>\n",
              "    </tr>\n",
              "    <tr>\n",
              "      <th>6</th>\n",
              "      <td>24</td>\n",
              "      <td>20.969092</td>\n",
              "    </tr>\n",
              "    <tr>\n",
              "      <th>7</th>\n",
              "      <td>86</td>\n",
              "      <td>78.721636</td>\n",
              "    </tr>\n",
              "  </tbody>\n",
              "</table>\n",
              "</div>"
            ],
            "text/plain": [
              "   Reality  Prediction\n",
              "0       20   17.053665\n",
              "1       27   33.694229\n",
              "2       69   74.806209\n",
              "3       30   26.842232\n",
              "4       62   60.123359\n",
              "5       35   39.567369\n",
              "6       24   20.969092\n",
              "7       86   78.721636"
            ]
          },
          "metadata": {
            "tags": []
          },
          "execution_count": 140
        }
      ]
    },
    {
      "cell_type": "markdown",
      "metadata": {
        "id": "6JoljFSC1HlB"
      },
      "source": [
        "_**Let's check the mean absolute error**_"
      ]
    },
    {
      "cell_type": "code",
      "metadata": {
        "id": "Z_Wae9Kt1QEJ",
        "colab": {
          "base_uri": "https://localhost:8080/"
        },
        "outputId": "d060c8c7-d74b-4b98-9146-ecc048b399ce"
      },
      "source": [
        "print('Mean Absolute Error:', \n",
        "      metrics.mean_absolute_error(ytest, yPredicted))"
      ],
      "execution_count": null,
      "outputs": [
        {
          "output_type": "stream",
          "text": [
            "Mean Absolute Error: 4.419727808027651\n"
          ],
          "name": "stdout"
        }
      ]
    },
    {
      "cell_type": "code",
      "metadata": {
        "id": "8FpADr0Y5jpf",
        "colab": {
          "base_uri": "https://localhost:8080/"
        },
        "outputId": "d793d7c1-3d52-422e-f7c9-244684095d9f"
      },
      "source": [
        "print(\"Model Score: \", linRegModel.score(xtest, ytest))"
      ],
      "execution_count": null,
      "outputs": [
        {
          "output_type": "stream",
          "text": [
            "Model Score:  0.9568211104435257\n"
          ],
          "name": "stdout"
        }
      ]
    },
    {
      "cell_type": "markdown",
      "metadata": {
        "id": "l63cVBSViUwz"
      },
      "source": [
        "## Prediction"
      ]
    },
    {
      "cell_type": "code",
      "metadata": {
        "id": "VvT6F3P75bBe"
      },
      "source": [
        "def predictMarks(hour = None):\n",
        "  if hour is None:\n",
        "    hour = round(randint(4,11))\n",
        "  \n",
        "  hour = np.array(hour)\n",
        "  marks = linRegModel.predict(hour.reshape(-1, 1))\n",
        "\n",
        "  print(\"Hours = {} \\t|\\t Marks = {}\".format(hour, marks[0]))"
      ],
      "execution_count": null,
      "outputs": []
    },
    {
      "cell_type": "code",
      "metadata": {
        "id": "64P-Q9YGiWem",
        "colab": {
          "base_uri": "https://localhost:8080/"
        },
        "outputId": "a242c3d2-c0e1-4c8a-9bfd-eda6368438c4"
      },
      "source": [
        "# a random prediction\n",
        "predictMarks()"
      ],
      "execution_count": null,
      "outputs": [
        {
          "output_type": "stream",
          "text": [
            "Hours = 10 \t|\t Marks = 100.25648224983233\n"
          ],
          "name": "stdout"
        }
      ]
    },
    {
      "cell_type": "markdown",
      "metadata": {
        "id": "PA-lWiPq5NYG"
      },
      "source": [
        "### **Prediction for the User Data**"
      ]
    },
    {
      "cell_type": "code",
      "metadata": {
        "id": "yxB20Qm030JS",
        "colab": {
          "base_uri": "https://localhost:8080/"
        },
        "outputId": "3657868b-7772-4214-8741-a7c8490c8953"
      },
      "source": [
        "hours = float(input(\"Enter the hours (float): \"))\n",
        " \n",
        "print(\"\\nPrediction: \\n\")\n",
        "predictMarks(hours)"
      ],
      "execution_count": null,
      "outputs": [
        {
          "output_type": "stream",
          "text": [
            "Enter the hours (float): 10.0\n",
            "\n",
            "Prediction: \n",
            "\n",
            "Hours = 10.0 \t|\t Marks = 100.25648224983233\n"
          ],
          "name": "stdout"
        }
      ]
    }
  ]
}
