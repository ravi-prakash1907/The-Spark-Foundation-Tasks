{
  "nbformat": 4,
  "nbformat_minor": 0,
  "metadata": {
    "colab": {
      "name": "task1.ipynb",
      "provenance": [],
      "collapsed_sections": [],
      "authorship_tag": "ABX9TyPgQL5njnMtO0Vld7D4a1kL",
      "include_colab_link": true
    },
    "kernelspec": {
      "name": "python3",
      "display_name": "Python 3"
    }
  },
  "cells": [
    {
      "cell_type": "markdown",
      "metadata": {
        "id": "view-in-github",
        "colab_type": "text"
      },
      "source": [
        "<a href=\"https://colab.research.google.com/github/ravi-prakash1907/The-Spark-Foundation-Tasks/blob/main/Task1/task1.ipynb\" target=\"_parent\"><img src=\"https://colab.research.google.com/assets/colab-badge.svg\" alt=\"Open In Colab\"/></a>"
      ]
    },
    {
      "cell_type": "markdown",
      "metadata": {
        "id": "Q-kszLyah_3o"
      },
      "source": [
        "# **Task 1**"
      ]
    },
    {
      "cell_type": "markdown",
      "metadata": {
        "id": "-ewxf3tGiDZm"
      },
      "source": [
        "## Libraries"
      ]
    },
    {
      "cell_type": "code",
      "metadata": {
        "id": "_vNFsNfph-pv"
      },
      "source": [
        "from urllib.request import urlopen\n",
        "import csv\n",
        "import pandas as pd"
      ],
      "execution_count": null,
      "outputs": []
    },
    {
      "cell_type": "markdown",
      "metadata": {
        "id": "sCMo5kEYiGfI"
      },
      "source": [
        "## Loading the DataSet"
      ]
    },
    {
      "cell_type": "code",
      "metadata": {
        "id": "A_niuP-Fnc8w"
      },
      "source": [
        "def downloadCSV(urlLoc, saveAs):\n",
        "  # loading bytestring\n",
        "  try:\n",
        "    with urlopen(urlLoc) as rsp:\n",
        "      gotRaw = rsp.read()\n",
        "    \n",
        "    # saving as csv\n",
        "    data = gotRaw.decode('utf-8').split('\\r\\n')\n",
        "    with open(saveAs, \"w\") as datafile:\n",
        "        writer = csv.writer(datafile, delimiter = ',')\n",
        "        for line in data:\n",
        "            writer.writerow(re.split(',',line))\n",
        "  except:\n",
        "    print(\"Can not open the URL!!\")"
      ],
      "execution_count": null,
      "outputs": []
    },
    {
      "cell_type": "code",
      "metadata": {
        "colab": {
          "base_uri": "https://localhost:8080/"
        },
        "id": "BhoxaosoiKQ9",
        "outputId": "d70bca13-2abf-497b-a665-4a018c9e01f9"
      },
      "source": [
        "## file locations\n",
        "dataURL = 'https://raw.githubusercontent.com/AdiPersonalWorks/Random/master/student_scores%20-%20student_scores.csv'\n",
        "localDataLoc = './Dataset/data.csv'\n",
        "\n",
        "## loading data\n",
        "try:\n",
        "  data = pd.read_csv(localDataLoc, header = 0)\n",
        "  print(\"File was there!!\")\n",
        "except:\n",
        "  downloadCSV(dataURL, localDataLoc)\n",
        "  data = pd.read_csv(localDataLoc, header = 0)\n",
        "  print(\"File was downloaded!!\")"
      ],
      "execution_count": null,
      "outputs": [
        {
          "output_type": "stream",
          "text": [
            "File was downloaded!!\n"
          ],
          "name": "stdout"
        }
      ]
    },
    {
      "cell_type": "markdown",
      "metadata": {
        "id": "HCcSEQw0iLQW"
      },
      "source": [
        "## Exploratory Data Analysis"
      ]
    },
    {
      "cell_type": "code",
      "metadata": {
        "id": "5PfH1beaiPo6"
      },
      "source": [
        "# "
      ],
      "execution_count": null,
      "outputs": []
    },
    {
      "cell_type": "markdown",
      "metadata": {
        "id": "CvqyTEqCiQUK"
      },
      "source": [
        "## Building the ML Model"
      ]
    },
    {
      "cell_type": "code",
      "metadata": {
        "id": "Dm7-rbJNiUMS"
      },
      "source": [
        ""
      ],
      "execution_count": null,
      "outputs": []
    },
    {
      "cell_type": "markdown",
      "metadata": {
        "id": "l63cVBSViUwz"
      },
      "source": [
        "## Prediction"
      ]
    },
    {
      "cell_type": "code",
      "metadata": {
        "id": "64P-Q9YGiWem"
      },
      "source": [
        ""
      ],
      "execution_count": null,
      "outputs": []
    }
  ]
}